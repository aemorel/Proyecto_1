{
 "cells": [
  {
   "cell_type": "markdown",
   "metadata": {},
   "source": [
    "## **Parte III:** Transformación y Análisis Avanzado de Datos con Pandas\n",
    "\n",
    "En esta tercera parte del proyecto, continuaremos trabajando con el dataset de ventas que utilizamos en la Parte II. En esta fase, aplicaremos técnicas avanzadas de transformación y análisis de datos utilizando las nuevas habilidades adquiridas en Pandas, tales como agrupaciones complejas y el uso del método apply. Nos enfocaremos en extraer insights más profundos y preparar los datos para futuros análisis y modelos predictivos.\n",
    "\n",
    "### **Instrucciones**\n",
    "\n",
    "1. **Transformación de Datos**\n",
    "    - Crea nuevas columnas: Basándonos en los datos existentes, crea nuevas columnas que sean útiles para el análisis. Por ejemplo, calcula el ingreso total por venta y normaliza las ventas.\n",
    "    - Clasifica los datos: Crea una columna que clasifique las ventas en categorías significativas (e.g., ‘Alta’, ‘Media’, ‘Baja’).\n",
    "\n",
    "2. **Agrupación y Agregación**\n",
    "    - Agrupación por múltiples columnas: Realiza agrupaciones por categorías como producto y tienda, producto y mes, etc.\n",
    "\n",
    "    - Aplicar funciones de agregación: Utiliza funciones como sum, mean, count, min, max, std, y var para obtener estadísticas descriptivas de cada grupo.\n",
    "\n",
    "3. **Análisis Personalizado con apply**\n",
    "    - Función personalizada: Aplica funciones personalizadas para realizar análisis específicos que no se pueden lograr con las funciones de agregación estándar.\n",
    "    - Ejemplo de uso avanzado: Calcula la desviación de cada venta respecto a la media de su grupo.\n",
    "\n",
    "4. **Documentación**\n",
    "    - Comentarios claros: Documenta claramente cada paso del análisis, explicando qué se hizo y por qué se hizo.\n",
    "    - Código legible: Asegúrate de que el código sea legible y esté bien comentado.\n"
   ]
  },
  {
   "cell_type": "code",
   "execution_count": 6,
   "metadata": {},
   "outputs": [
    {
     "name": "stdout",
     "output_type": "stream",
     "text": [
      "\n",
      "Estadísticas por categoría de producto:\n",
      "  Product Category     sum        mean  count  min   max         std  \\\n",
      "0           Beauty  143515  467.475570    307   25  2000  563.612788   \n",
      "1         Clothing  155580  443.247863    351   25  2000  550.695917   \n",
      "2      Electronics  156905  458.786550    342   25  2000  567.540150   \n",
      "\n",
      "             var  \n",
      "0  317659.374401  \n",
      "1  303265.992674  \n",
      "2  322101.822341  \n",
      "\n",
      "Primeras 5 filas con análisis personalizado:\n",
      "  Product Category  Total Amount  Deviation from Mean\n",
      "0           Beauty           150          -317.475570\n",
      "1         Clothing          1000           556.752137\n",
      "2      Electronics            30          -428.786550\n",
      "3         Clothing           500            56.752137\n",
      "4           Beauty           100          -367.475570\n"
     ]
    }
   ],
   "source": [
    "import pandas as pd\n",
    "\n",
    "# 1. Cargar los datos\n",
    "ruta_archivo = r'C:\\Users\\Andy\\Documents\\Proyecto_1\\Data\\retail_sales_dataset.csv'\n",
    "datos = pd.read_csv(ruta_archivo)\n",
    "\n",
    "# 2. Transformación de Datos\n",
    "# Crear nuevas columnas: Ingreso total por venta y normalizar las ventas\n",
    "datos['Total Income'] = datos['Quantity'] * datos['Price per Unit']\n",
    "datos['Normalized Sales'] = (datos['Total Amount'] - datos['Total Amount'].min()) / (datos['Total Amount'].max() - datos['Total Amount'].min())\n",
    "\n",
    "# Clasificar las ventas\n",
    "def clasificar_ventas(total):\n",
    "    if total > 500:\n",
    "        return 'Alta'\n",
    "    elif total > 200:\n",
    "        return 'Media'\n",
    "    else:\n",
    "        return 'Baja'\n",
    "\n",
    "datos['Sales Category'] = datos['Total Amount'].apply(clasificar_ventas)\n",
    "\n",
    "# 3. Agrupación y Agregación\n",
    "# Agrupación por categoría de producto\n",
    "agrupados_producto = datos.groupby(['Product Category'])['Total Amount'].agg(['sum', 'mean', 'count', 'min', 'max', 'std', 'var']).reset_index()\n",
    "print(\"\\nEstadísticas por categoría de producto:\")\n",
    "print(agrupados_producto)\n",
    "\n",
    "# 4. Análisis Personalizado con apply\n",
    "# Función para calcular la desviación respecto a la media de su grupo\n",
    "def calcular_desviacion(row):\n",
    "    grupo = datos[datos['Product Category'] == row['Product Category']]\n",
    "    media = grupo['Total Amount'].mean()\n",
    "    return row['Total Amount'] - media\n",
    "\n",
    "# Aplicar la función personalizada\n",
    "datos['Deviation from Mean'] = datos.apply(calcular_desviacion, axis=1)\n",
    "\n",
    "# 5. Documentación\n",
    "\n",
    "print(\"\\nPrimeras 5 filas con análisis personalizado:\")\n",
    "print(datos[['Product Category', 'Total Amount', 'Deviation from Mean']].head())\n"
   ]
  }
 ],
 "metadata": {
  "kernelspec": {
   "display_name": "Python 3",
   "language": "python",
   "name": "python3"
  },
  "language_info": {
   "codemirror_mode": {
    "name": "ipython",
    "version": 3
   },
   "file_extension": ".py",
   "mimetype": "text/x-python",
   "name": "python",
   "nbconvert_exporter": "python",
   "pygments_lexer": "ipython3",
   "version": "3.12.6"
  }
 },
 "nbformat": 4,
 "nbformat_minor": 2
}
